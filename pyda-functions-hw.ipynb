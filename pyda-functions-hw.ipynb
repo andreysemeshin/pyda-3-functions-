{
 "cells": [
  {
   "cell_type": "markdown",
   "metadata": {},
   "source": [
    "## Задание 1"
   ]
  },
  {
   "cell_type": "markdown",
   "metadata": {},
   "source": [
    "Дан список вида:"
   ]
  },
  {
   "cell_type": "code",
   "execution_count": 5,
   "metadata": {},
   "outputs": [],
   "source": [
    "data = [\n",
    "    [13, 25, 23, 34],\n",
    "    [45, 32, 44, 47],\n",
    "    [12, 33, 23, 95],\n",
    "    [13, 53, 34, 35]\n",
    "]"
   ]
  },
  {
   "cell_type": "markdown",
   "metadata": {},
   "source": [
    "Напишите функцию, которая возвращает сумму элементов на диагонали. Т. е. 13+32+23+35.  \n",
    "Список может быть любой длины, но всегда является \"квадратным\" (количество элементов во вложенных списках равно их количеству)."
   ]
  },
  {
   "cell_type": "code",
   "execution_count": 6,
   "metadata": {},
   "outputs": [
    {
     "name": "stdout",
     "output_type": "stream",
     "text": [
      "Сумма элементов по диагонали:  103\n"
     ]
    }
   ],
   "source": [
    "def sum_diag(x):\n",
    "    sum_el = 0\n",
    "    el = 0\n",
    "    for i in x:\n",
    "        sum_el += i[el]\n",
    "        el += 1\n",
    "    return sum_el\n",
    "\n",
    "print('Сумма элементов по диагонали: ', sum_diag(data))"
   ]
  },
  {
   "cell_type": "markdown",
   "metadata": {},
   "source": [
    "## Задание 2"
   ]
  },
  {
   "cell_type": "markdown",
   "metadata": {},
   "source": [
    "Напишите функцию, возвращающую сумму первых n чисел Фибоначчи (для этого вам может понадобится ознакомиться с рекурсией)."
   ]
  },
  {
   "cell_type": "code",
   "execution_count": 7,
   "metadata": {},
   "outputs": [
    {
     "name": "stdout",
     "output_type": "stream",
     "text": [
      "Введите первых n чисел Фибоначчи: 10\n",
      "143\n"
     ]
    }
   ],
   "source": [
    "n = int(input('Введите первых n чисел Фибоначчи: '))\n",
    "\n",
    "def fibonacci(x):\n",
    "    if x in (1, 2):\n",
    "        return 1\n",
    "    else:\n",
    "        return fibonacci(x - 2) + fibonacci(x - 1) \n",
    "    \n",
    "def sum_fibonacci(n):\n",
    "    sum_fib = 0\n",
    "    for element in range(1, n + 1):\n",
    "        sum_fib += fibonacci(element)\n",
    "    return sum_fib \n",
    "\n",
    "print(sum_fibonacci(n))"
   ]
  },
  {
   "cell_type": "markdown",
   "metadata": {},
   "source": [
    "## Задание 3\n"
   ]
  },
  {
   "cell_type": "markdown",
   "metadata": {},
   "source": [
    "Напишите функцию, преобразующую произвольный список вида ['2018-01-01', 'yandex', 'cpc', 100] (он может быть любой длины) в словарь {'2018-01-01': {'yandex': {'cpc': 100}}}"
   ]
  },
  {
   "cell_type": "code",
   "execution_count": 8,
   "metadata": {},
   "outputs": [
    {
     "name": "stdout",
     "output_type": "stream",
     "text": [
      "{'2018-01-01': {'yandex': {'cpc': {100: {'google': {'view': {324: {'qwert': 8765}}}}}}}}\n"
     ]
    }
   ],
   "source": [
    "my_l = ['2018-01-01', 'yandex', 'cpc', 100, 'google', 'view', 324, 'qwert', 8765]\n",
    "\n",
    "\n",
    "\n",
    "def multi_dict(some_list):\n",
    "    length = len(some_list)\n",
    "    i = 0\n",
    "    my_d = {}\n",
    "    temp = {}\n",
    "    for i in range(1, length + 1):\n",
    "        if i == 1:\n",
    "            my_d = my_l[-i]\n",
    "        else:\n",
    "            temp = {}\n",
    "            temp[some_list[-i]] = my_d\n",
    "            my_d = temp\n",
    "    return my_d\n",
    "    \n",
    "    \n",
    "print(multi_dict(my_l))"
   ]
  },
  {
   "cell_type": "markdown",
   "metadata": {},
   "source": [
    "## Задание 4"
   ]
  },
  {
   "cell_type": "markdown",
   "metadata": {},
   "source": [
    "Вы работаете секретарем и вам постоянно приходят различные документы. Вы должны быть очень внимательны, чтобы не потерять ни один документ. Каталог документов хранится в следующем виде:"
   ]
  },
  {
   "cell_type": "code",
   "execution_count": 1,
   "metadata": {},
   "outputs": [],
   "source": [
    "documents = [\n",
    "    {'type': 'passport', 'number': '2207 876234', 'name': 'Василий Гупкин'},\n",
    "    {'type': 'invoice', 'number': '11-2', 'name': 'Геннадий Покемонов'},\n",
    "    {'type': 'insurance', 'number': '10006', 'name': 'Аристарх Павлов'}\n",
    "]"
   ]
  },
  {
   "cell_type": "markdown",
   "metadata": {},
   "source": [
    "Перечень полок, на которых находятся документы хранится в следующем виде:"
   ]
  },
  {
   "cell_type": "code",
   "execution_count": null,
   "metadata": {},
   "outputs": [],
   "source": [
    "directories = {\n",
    "    '1': ['2207 876234', '11-2', '5455 028765'],\n",
    "    '2': ['10006', '5400 028765', '5455 002299'],\n",
    "    '3': []\n",
    "}"
   ]
  },
  {
   "cell_type": "code",
   "execution_count": 14,
   "metadata": {},
   "outputs": [
    {
     "name": "stdout",
     "output_type": "stream",
     "text": [
      "\"Exit\" - для выхода из программы, \"printall\" - для вывода содержимого каталога и полок\n",
      "Введите функцию: p\n",
      "Введите № документа: 10006\n",
      "Имя:  Аристарх Павлов\n",
      "Введите функцию: s\n",
      "Введите № документа: 10006\n",
      "Номер полки хранения:  2\n",
      "Введите функцию: l\n",
      "Список документов:\n",
      "passport \"2207 876234\" \"Василий Гупкин\" \n",
      "invoice \"11-2\" \"Геннадий Покемонов\" \n",
      "insurance \"10006\" \"Аристарх Павлов\" \n",
      "passport \"5455 028765\" \"Артем Иванов\" \n",
      "passport \"5400 028765\" \"Сергей Гурьянов\" \n",
      "passport \"5455 002299\" \"Андрей Лебедев\" \n",
      "Введите функцию: as\n",
      "Введите номер новой полки: 5\n",
      "Новая полка добавлена\n",
      "Введите функцию: d\n",
      "Введите № документа: 10006\n",
      "Документ удален из каталога и из перечня полок\n",
      "Введите функцию: m\n",
      "Введите № документа: 10006\n",
      "Такого документа нет\n",
      "Введите № документа: 5455 002299\n",
      "Текущая полка документа  2\n",
      "Введите номер полки на которую хотите переместить документ: 3\n",
      "Документ перенесен\n",
      "Введите функцию: a\n",
      "Введите номер нового документа: 1234\n",
      "Введите имя: Andrey\n",
      "Введите тип документа: Semeshin\n",
      "Введите номер полки: 5\n",
      "Документ добавлен в каталог\n",
      "Введите функцию: printall\n",
      "Документы: \n",
      "[{'type': 'passport', 'number': '2207 876234', 'name': 'Василий Гупкин'}, {'type': 'invoice', 'number': '11-2', 'name': 'Геннадий Покемонов'}, {'type': 'passport', 'number': '5455 028765', 'name': 'Артем Иванов'}, {'type': 'passport', 'number': '5400 028765', 'name': 'Сергей Гурьянов'}, {'type': 'passport', 'number': '5455 002299', 'name': 'Андрей Лебедев'}, {'type': 'Semeshin', 'number': '1234', 'name': 'Andrey'}]\n",
      "Полки: \n",
      "{'1': ['2207 876234', '11-2', '5455 028765'], '2': ['5400 028765'], '3': ['5455 002299'], '5': ['1234']}\n",
      "Введите функцию: exit\n",
      "->> Exit...\n"
     ]
    }
   ],
   "source": [
    "documents = [\n",
    "    {'type': 'passport', 'number': '2207 876234', 'name': 'Василий Гупкин'},\n",
    "    {'type': 'invoice', 'number': '11-2', 'name': 'Геннадий Покемонов'},\n",
    "    {'type': 'insurance', 'number': '10006', 'name': 'Аристарх Павлов'},\n",
    "    {'type': 'passport', 'number': '5455 028765', 'name': 'Артем Иванов'},\n",
    "    {'type': 'passport', 'number': '5400 028765', 'name': 'Сергей Гурьянов'},\n",
    "    {'type': 'passport', 'number': '5455 002299', 'name': 'Андрей Лебедев'}\n",
    "]\n",
    "\n",
    "directories = {\n",
    "    '1': ['2207 876234', '11-2', '5455 028765'],\n",
    "    '2': ['10006', '5400 028765', '5455 002299'],\n",
    "    '3': []\n",
    "}\n",
    "\n",
    "def people():\n",
    "    doc_num = input('Введите № документа: ')\n",
    "    exist_flag = 0\n",
    "    while exist_flag == 0:\n",
    "        for el in documents:\n",
    "            if doc_num == el['number']:\n",
    "                exist_flag = 1\n",
    "                return el['name']\n",
    "                break\n",
    "        if exist_flag == 0:\n",
    "            doc_num = input('Документ не найдет, введите № документа: ')\n",
    "            if doc_num == 'exit':\n",
    "                return 'Назад в главное меню'\n",
    "            \n",
    "def shelf(doc_num):\n",
    "    exist_flag = 0\n",
    "    if not doc_num:\n",
    "        doc_num = input('Введите № документа: ')\n",
    "    for shelf_num_current, shelf_items in directories.items():  \n",
    "        if doc_num in shelf_items:\n",
    "            exist_flag = 1\n",
    "            break\n",
    "    if exist_flag == 1:\n",
    "        return shelf_num_current\n",
    "    else:\n",
    "        return 'Документ не найден'\n",
    "\n",
    "def doc_print():\n",
    "    for doc in documents:\n",
    "        print(doc['type'],' \"', doc['number'], '\" ', '\"', doc['name'], '\" ', sep = '')\n",
    "    \n",
    "def add_shelf():\n",
    "    while True:\n",
    "        new_shelf = input('Введите номер новой полки: ')\n",
    "        if new_shelf in directories.keys():\n",
    "            print('Полка с таким номер уже существует')\n",
    "            continue\n",
    "        else:\n",
    "            directories[new_shelf] = []\n",
    "#             print(directories)\n",
    "            break\n",
    "    return 'Новая полка добавлена'      \n",
    "\n",
    "def delete():\n",
    "    exist_flag = 0\n",
    "    doc_num = input('Введите № документа: ')\n",
    "    if doc_num == 'exit':\n",
    "        return 'Назад в главное меню'\n",
    "    while exist_flag == 0:\n",
    "        for el in documents:\n",
    "            if doc_num == el['number']:\n",
    "                exist_flag = 1 \n",
    "        if exist_flag == 0:\n",
    "            print('Такого документа нет')\n",
    "            doc_num = input('Введите № документа: ')\n",
    "            if doc_num == 'exit':\n",
    "                return 'Назад в главное меню'\n",
    "        else:\n",
    "            break\n",
    "    cnt_el = 0\n",
    "    for el in documents:\n",
    "        if doc_num == el['number']:\n",
    "            del documents[cnt_el]\n",
    "        cnt_el += 1\n",
    "    for shelf_items in directories.values():\n",
    "        if doc_num in shelf_items:\n",
    "            cnt_el = 0\n",
    "            for i in shelf_items:\n",
    "                if doc_num == i:\n",
    "                    del shelf_items[cnt_el]\n",
    "                cnt_el += 1\n",
    "    return 'Документ удален из каталога и из перечня полок'            \n",
    "            \n",
    "def move():\n",
    "    exist_flag = 0\n",
    "    doc_num = input('Введите № документа: ')\n",
    "    if doc_num == 'exit':\n",
    "        return 'Назад в главное меню'\n",
    "    while exist_flag == 0:\n",
    "        for el in documents:\n",
    "            if doc_num == el['number']:\n",
    "                exist_flag = 1 \n",
    "        if exist_flag == 0:\n",
    "            print('Такого документа нет')\n",
    "            doc_num = input('Введите № документа: ')\n",
    "            if doc_num == 'exit':\n",
    "                return 'Назад в главное меню'\n",
    "        else:\n",
    "            break\n",
    "    doc_shelf_current = ''        \n",
    "    doc_shelf_current = shelf(doc_num)        \n",
    "    print('Текущая полка документа: ', doc_shelf_current)     \n",
    "    shelf_num = input('Введите номер полки на которую хотите переместить документ: ')\n",
    "    while True:\n",
    "        if shelf_num in directories.keys():\n",
    "            break\n",
    "        else:\n",
    "            shelf_num = input('Такой полки нет, введите номер полки на которую хотите переместить документ: ')\n",
    "    for shelf_items in directories.values():\n",
    "        if doc_num in shelf_items:\n",
    "            cnt_el = 0\n",
    "            for i in shelf_items:\n",
    "                if doc_num == i:\n",
    "                    del shelf_items[cnt_el]\n",
    "                cnt_el += 1        \n",
    "    directories[shelf_num].append(doc_num)   \n",
    "    return 'Документ перенесен'\n",
    "\n",
    "def add():\n",
    "    exist_flag = 1\n",
    "    new_doc = input('Введите номер нового документа: ')\n",
    "    if doc_num == 'exit':\n",
    "        return 'Назад в главное меню'\n",
    "    while exist_flag == 1:\n",
    "        for el in documents:\n",
    "            if new_doc == el['number']:\n",
    "                new_doc = input('Документ уже существует, введите номер нового документа: ')\n",
    "            else:\n",
    "                exist_flag = 0\n",
    "    new_name = input('Введите имя: ') \n",
    "    new_type = input('Введите тип документа: ')\n",
    "    shelf_num = input('Введите номер полки: ')\n",
    "    while shelf_num not in directories.keys():\n",
    "        shelf_num = input('Введите номер существующей полки полки: ')\n",
    "    directories[shelf_num].append(new_doc)    \n",
    "    new_dict = {}\n",
    "    new_dict = dict(type = new_type, number = new_doc, name = new_name)\n",
    "    documents.append(new_dict)    \n",
    "    return 'Документ добавлен в каталог'\n",
    "    \n",
    "print('\"Exit\" - для выхода из программы, \"printall\" - для вывода содержимого каталога и полок')    \n",
    "while True:\n",
    "    doc_num = ''\n",
    "    func = input('Введите функцию: ')\n",
    "    if func == 'exit' or func == 'e':\n",
    "        print('->> Exit...')\n",
    "        break \n",
    "    elif func == 'p':\n",
    "        print('Имя: ', people())\n",
    "    elif func == 's':\n",
    "        print('Номер полки хранения: ', shelf(doc_num))\n",
    "    elif func == 'l':\n",
    "        print('Список документов:') \n",
    "        doc_print()\n",
    "    elif func == 'as':\n",
    "        print(add_shelf())\n",
    "    elif func == 'd':\n",
    "        print(delete())\n",
    "    elif func == 'm':\n",
    "        print(move())\n",
    "    elif func == 'a':\n",
    "        print(add())\n",
    "    elif func == 'printall':\n",
    "        print('Документы: ')\n",
    "        print(documents)\n",
    "        print('Полки: ')\n",
    "        print(directories)\n",
    "    else:\n",
    "        print('Такой функции нет, попробуйте ещё. Если хотите выйти из программы наберите: \"exit\"')"
   ]
  },
  {
   "cell_type": "markdown",
   "metadata": {},
   "source": [
    "Необходимо реализовать пользовательские команды (внимание! это не название функций, которые должны быть выразительными, а команды, которые вводит пользователь, чтобы получить необходимый результат):\n",
    "  \n",
    "- p – people – команда, которая спросит номер документа и выведет имя человека, которому он принадлежит;  \n",
    "- s – shelf – команда, которая спросит номер документа и выведет номер полки, на которой он находится  \n",
    "Правильно обработайте ситуацию, когда пользователь будет вводить несуществующий документ.\n",
    "- l – list – команда, которая выведет список всех документов в формате   \n",
    "**passport \"2207 876234\" \"Василий Гупкин\"**  \n",
    "- as – add shelf – команда, которая спросит номер новой полки и добавит ее в перечень\n",
    "- d – delete – команда, которая спросит номер документа и удалит его из каталога и из перечня полок. Предусмотрите сценарий, когда пользователь вводит несуществующий документ;  \n",
    "- m – move – команда, которая спросит номер документа и целевую полку и переместит его с текущей полки на целевую. Корректно обработайте кейсы, когда пользователь пытается переместить несуществующий документ или переместить документ на несуществующую полку;  \n",
    "- a – add – команда, которая добавит новый документ в каталог и в перечень полок, спросив его номер, тип, имя владельца и номер полки, на котором он будет храниться."
   ]
  },
  {
   "cell_type": "code",
   "execution_count": null,
   "metadata": {},
   "outputs": [],
   "source": []
  }
 ],
 "metadata": {
  "kernelspec": {
   "display_name": "Python 3",
   "language": "python",
   "name": "python3"
  },
  "language_info": {
   "codemirror_mode": {
    "name": "ipython",
    "version": 3
   },
   "file_extension": ".py",
   "mimetype": "text/x-python",
   "name": "python",
   "nbconvert_exporter": "python",
   "pygments_lexer": "ipython3",
   "version": "3.7.4"
  }
 },
 "nbformat": 4,
 "nbformat_minor": 2
}
